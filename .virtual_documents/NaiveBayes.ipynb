import re

# import plotly.express as px
from collections import defaultdict

import numpy as np
import pandas as pd
import plotly.graph_objects as plt
import plotly.io as pio
from tqdm import tqdm

tqdm.pandas()
pd.options.plotting.backend = "plotly"

pio.templates["plotly_dark_horizon"] = pio.templates["plotly_dark"]

pio.templates["plotly_dark_horizon"]["layout"]["paper_bgcolor"] = "#232530"
pio.templates["plotly_dark_horizon"]["layout"]["plot_bgcolor"] = "#232530"

pio.templates.default = "plotly_dark_horizon"
# pio.templates.default = "plotly_white"


NEUTRALSET = "./neutralTweets.csv"
NEUTRALROWS = 300000
DEPRESSEDSET = "./depressedTweets.csv"
DEPRESSEDROWS = 30000


neutralSet = pd.read_csv(NEUTRALSET, nrows=NEUTRALROWS)
depressedSet = pd.read_csv(DEPRESSEDSET, nrows=DEPRESSEDROWS)


neutralSet["target"] = 0


depressedSet["target"] = 1


mixedFinal = pd.concat([neutralSet, depressedSet], ignore_index=True)


mixedFinal


# Expand Contractions
cList = {
    "ain't": "am not",
    "aren't": "are not",
    "can't": "cannot",
    "can't've": "cannot have",
    "'cause": "because",
    "could've": "could have",
    "couldn't": "could not",
    "couldn't've": "could not have",
    "didn't": "did not",
    "doesn't": "does not",
    "don't": "do not",
    "hadn't": "had not",
    "hadn't've": "had not have",
    "hasn't": "has not",
    "haven't": "have not",
    "he'd": "he would",
    "he'd've": "he would have",
    "he'll": "he will",
    "he'll've": "he will have",
    "he's": "he is",
    "how'd": "how did",
    "how'd'y": "how do you",
    "how'll": "how will",
    "how's": "how is",
    "I'd": "I would",
    "I'd've": "I would have",
    "I'll": "I will",
    "I'll've": "I will have",
    "I'm": "I am",
    "I've": "I have",
    "isn't": "is not",
    "it'd": "it had",
    "it'd've": "it would have",
    "it'll": "it will",
    "it'll've": "it will have",
    "it's": "it is",
    "let's": "let us",
    "ma'am": "madam",
    "mayn't": "may not",
    "might've": "might have",
    "mightn't": "might not",
    "mightn't've": "might not have",
    "must've": "must have",
    "mustn't": "must not",
    "mustn't've": "must not have",
    "needn't": "need not",
    "needn't've": "need not have",
    "o'clock": "of the clock",
    "oughtn't": "ought not",
    "oughtn't've": "ought not have",
    "shan't": "shall not",
    "sha'n't": "shall not",
    "shan't've": "shall not have",
    "she'd": "she would",
    "she'd've": "she would have",
    "she'll": "she will",
    "she'll've": "she will have",
    "she's": "she is",
    "should've": "should have",
    "shouldn't": "should not",
    "shouldn't've": "should not have",
    "so've": "so have",
    "so's": "so is",
    "that'd": "that would",
    "that'd've": "that would have",
    "that's": "that is",
    "there'd": "there had",
    "there'd've": "there would have",
    "there's": "there is",
    "they'd": "they would",
    "they'd've": "they would have",
    "they'll": "they will",
    "they'll've": "they will have",
    "they're": "they are",
    "they've": "they have",
    "to've": "to have",
    "wasn't": "was not",
    "we'd": "we had",
    "we'd've": "we would have",
    "we'll": "we will",
    "we'll've": "we will have",
    "we're": "we are",
    "we've": "we have",
    "weren't": "were not",
    "what'll": "what will",
    "what'll've": "what will have",
    "what're": "what are",
    "what's": "what is",
    "what've": "what have",
    "when's": "when is",
    "when've": "when have",
    "where'd": "where did",
    "where's": "where is",
    "where've": "where have",
    "who'll": "who will",
    "who'll've": "who will have",
    "who's": "who is",
    "who've": "who have",
    "why's": "why is",
    "why've": "why have",
    "will've": "will have",
    "won't": "will not",
    "won't've": "will not have",
    "would've": "would have",
    "wouldn't": "would not",
    "wouldn't've": "would not have",
    "y'all": "you all",
    "y'alls": "you alls",
    "y'all'd": "you all would",
    "y'all'd've": "you all would have",
    "y'all're": "you all are",
    "y'all've": "you all have",
    "you'd": "you had",
    "you'd've": "you would have",
    "you'll": "you you will",
    "you'll've": "you you will have",
    "you're": "you are",
    "you've": "you have",
}

c_re = re.compile("(%s)" % "|".join(cList.keys()))


def expandContractions(text, c_re=c_re):
    def replace(match):
        return cList[match.group(0)]

    return c_re.sub(replace, text)


def string_cleaner(str_argument):
    str_argument = expandContractions(str(str_argument))
    cleaned_str = re.sub("[^a-z\s] + ", " ", str_argument, flags=re.IGNORECASE)
    cleaned_str = re.sub("(\s+)", " ", cleaned_str)
    cleaned_str = cleaned_str.lower()
    return cleaned_str


from sklearn.metrics import classification_report
from sklearn.model_selection import train_test_split

# making test train splits
X_train, X_test, y_train, y_test = train_test_split(
    mixedFinal["tweet"], mixedFinal["target"], test_size=0.05
)


X_train[:20]


y_train[:20]


class NaiveBayes:
    def __init__(self, unique_targets):
        # constructor to pass the unique target classes
        self.classes = unique_targets

    def addToBow(self, item, dict_index):
        # if the array is an array of arrays
        if isinstance(item, np.ndarray):
            item = item[0]
        for token_word in item.split():
            # for each token in the item we increment the count of that corresponding item
            self.bow_dicts[dict_index][token_word] += 1

    def train(self, dataset, labels):

        self.items = dataset
        self.labels = labels
        self.bow_dicts = np.array(
            [defaultdict(lambda: 0) for index in range(self.classes.shape[0])]
        )

        # only convert to numpy arrays if not passed as numpy arrays
        if not isinstance(self.items, np.ndarray):
            self.items = np.array(self.items)
        if not isinstance(self.labels, np.ndarray):
            self.labels = np.array(self.labels)

        # constructing bow for each category
        print("Now constructing BoW for the corpus")
        for cat_index, cat in enumerate(tqdm(self.classes)):
            all_cat_items = self.items[
                self.labels == cat
            ]  # filter all items of category == cat
            # get items preprocessed

            cleaned_items = [string_cleaner(cat_item) for cat_item in all_cat_items]

            cleaned_items = pd.DataFrame(data=cleaned_items)

            # now costruct BoW of this particular category
            np.apply_along_axis(self.addToBow, 1, cleaned_items, cat_index)

        prob_classes = np.empty(self.classes.shape[0])
        all_words = []
        cat_word_counts = np.empty(self.classes.shape[0])

        print("Now constructing the model")
        for cat_index, cat in enumerate(tqdm(self.classes)):

            # Calculating prior probability p(c) for each class
            prob_classes[cat_index] = np.sum(self.labels == cat) / float(
                self.labels.shape[0]
            )

            # Calculating total counts of all the words of each class
            count = list(self.bow_dicts[cat_index].values())
            cat_word_counts[cat_index] = (
                np.sum(np.array(list(self.bow_dicts[cat_index].values()))) + 1
            )  # |v| is remaining to be added

            # get all words of this category
            all_words += self.bow_dicts[cat_index].keys()

        self.vocab = np.unique(np.array(all_words))
        self.vocab_length = self.vocab.shape[0]

        # computing denominator value
        denoms = np.array(
            [
                cat_word_counts[cat_index] + self.vocab_length + 1
                for cat_index, cat in enumerate(self.classes)
            ]
        )
        self.cats_info = [
            (self.bow_dicts[cat_index], prob_classes[cat_index], denoms[cat_index])
            for cat_index, cat in enumerate(self.classes)
        ]
        self.cats_info = np.array(self.cats_info)

    def getExampleProb(self, test_item):
        likelihood_prob = np.zeros(
            self.classes.shape[0]
        )  # to store probability w.r.t each class

        # finding probability w.r.t each class of the given test item
        for cat_index, cat in enumerate(self.classes):

            for (
                test_token
            ) in test_item.split():  # split the test item and get p of each test word
                # get total count of this test token from it's respective training dict to get numerator value
                test_token_counts = self.cats_info[cat_index][0].get(test_token, 0) + 1

                # now get likelihood of this test_token word
                test_token_prob = test_token_counts / float(
                    self.cats_info[cat_index][2]
                )

                # remember why taking log? To prevent underflow!
                likelihood_prob[cat_index] += np.log(test_token_prob)

        # we have likelihood estimate of the given item against every class but we need posterior probility
        post_prob = np.empty(self.classes.shape[0])
        for cat_index, cat in enumerate(self.classes):
            post_prob[cat_index] = likelihood_prob[cat_index] + np.log(
                self.cats_info[cat_index][1]
            )

        return post_prob

    def test(self, test_set):

        predictions = []  # to store prediction of each test item
        for item in tqdm(test_set):

            # preprocess the test item the same way we did for training set exampels
            cleaned_item = string_cleaner(item)

            # simply get the posterior probability of every item
            post_prob = self.getExampleProb(
                cleaned_item
            )  # get prob of this item for both classes

            # simply pick the max value and map against self.classes!
            predictions.append(self.classes[np.argmax(post_prob)])
        return np.array(predictions)


print("The train set has {} and test set has {}".format(len(X_train), len(X_test)))


# init the targets
nb = NaiveBayes(np.unique(y_train))

# train the model
nb.train(X_train, y_train)


# get predcitions for test set
y_pred = nb.test(X_test)


from sklearn.metrics import accuracy_score, auc, roc_auc_score, roc_curve

accuracy_score(y_test, y_pred)


fpr, tpr, thresholds = roc_curve(y_pred, y_test)
roc_auc = auc(fpr, tpr)


fig = plt.Figure()

fig.add_trace(
    plt.Scatter(
        x=fpr, y=tpr, name="ROC curve (area = {0:.4f})".format(roc_auc), fill="tozeroy"
    )
)

fig.add_trace(
    plt.Scatter(
        x=[0, 1], y=[0, 1], name="Line", showlegend=False, line=dict(dash="dashdot")
    )
)

fig.update_layout(
    title="ROC Curve",
    xaxis_title="FPR",
    yaxis_title="TPR",
    legend_title="",
    legend=dict(orientation="h", yanchor="bottom", y=1.02, xanchor="right", x=1),
)
fig.show()


roc_auc_score(y_test, y_pred)


print(classification_report(y_pred, y_test))
